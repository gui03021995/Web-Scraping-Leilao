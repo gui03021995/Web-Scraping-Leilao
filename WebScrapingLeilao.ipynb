{
  "cells": [
    {
      "cell_type": "code",
      "execution_count": null,
      "id": "refined-python",
      "metadata": {
        "id": "refined-python"
      },
      "outputs": [],
      "source": [
        "import requests\n",
        "from bs4 import BeautifulSoup\n",
        "import pandas as pd\n",
        "import re\n",
        "import math"
      ]
    },
    {
      "cell_type": "code",
      "execution_count": null,
      "id": "sunset-office",
      "metadata": {
        "id": "sunset-office"
      },
      "outputs": [],
      "source": [
        "urlLote = 'https://www.sodresantoro.com.br/leilao/22923/'\n",
        "\n",
        "site = requests.get(urlLote)\n",
        "soup = BeautifulSoup(site.content, 'html.parser',from_encoding='iso-8859-1')\n",
        "\n",
        "qtItem =  soup.find('span', class_= 'textoAux1').get_text().strip()\n",
        "qt = qtItem[15:17]\n",
        "\n",
        "ultima_pagina = math.ceil(int(qt)/15)\n",
        "\n",
        "dic_produtos = {'marca':[],'preco':[]}\n",
        "\n",
        "for i in range(1, ultima_pagina+1):\n",
        "    url_pag = 'https://www.sodresantoro.com.br/leilao/22923/ordenacao/nu_lote/tipo-ordenacao/crescente/qtde-itens/15/visualizacao/visual_imagemlista/item-atual/1/pagina/{i}/leilao/22923/'\n",
        "    site = requests.get(url_pag)\n",
        "    soup = BeautifulSoup(site.content, 'html.parser',from_encoding='iso-8859-1')\n",
        "    produtos = soup.find_all('li', class_ = re.compile('act-ss-filtro-lista-img'))\n",
        "    \n",
        "    for produto in produtos : \n",
        "        marca = produto.find('h2', class_='titulo').get_text().strip()\n",
        "        preco = produto.find('span', class_='lance-atual').get_text().strip()\n",
        "        \n",
        "        #print(marca,preco)\n",
        "        \n",
        "        dic_produtos['marca'].append(marca)\n",
        "        dic_produtos['preco'].append(preco)\n",
        "        \n",
        "df = pd.DataFrame(dic_produtos)        \n",
        "df.to_csv('C:/Users/55379/Desktop/UEMG-Computação/8º Periodo/Optativa4/ent/itens_leilao.csv', encoding='utf-8' , sep=';')\n"
      ]
    }
  ],
  "metadata": {
    "kernelspec": {
      "display_name": "Python 3",
      "language": "python",
      "name": "python3"
    },
    "language_info": {
      "codemirror_mode": {
        "name": "ipython",
        "version": 3
      },
      "file_extension": ".py",
      "mimetype": "text/x-python",
      "name": "python",
      "nbconvert_exporter": "python",
      "pygments_lexer": "ipython3",
      "version": "3.7.7"
    },
    "colab": {
      "provenance": []
    }
  },
  "nbformat": 4,
  "nbformat_minor": 5
}